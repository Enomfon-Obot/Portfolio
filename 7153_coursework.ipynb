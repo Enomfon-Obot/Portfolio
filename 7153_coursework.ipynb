{
 "cells": [
  {
   "cell_type": "code",
   "execution_count": 38,
   "id": "0aafc2eb",
   "metadata": {},
   "outputs": [],
   "source": [
    "#to install pyspark\n",
    "#pip install pyspark"
   ]
  },
  {
   "cell_type": "code",
   "execution_count": 210,
   "id": "045dc7f6",
   "metadata": {},
   "outputs": [],
   "source": [
    "# Import necessary libraries\n",
    "from pyspark.sql import SparkSession\n",
    "from pyspark.ml.stat import Correlation\n",
    "from pyspark.ml.feature import VectorAssembler,StringIndexer,StandardScaler\n",
    "from pyspark.mllib.evaluation import BinaryClassificationMetrics\n",
    "from pyspark.ml.evaluation import MulticlassClassificationEvaluator\n",
    "from pyspark.ml.evaluation import BinaryClassificationEvaluator\n",
    "from pyspark.ml.classification import LogisticRegression\n",
    "from pyspark.ml.classification import RandomForestClassifier\n",
    "from pyspark.ml.classification import GBTClassifier\n",
    "from pyspark.ml.classification import LinearSVC\n",
    "from pyspark.ml.classification import DecisionTreeClassifier"
   ]
  },
  {
   "cell_type": "code",
   "execution_count": 211,
   "id": "77374e54",
   "metadata": {},
   "outputs": [],
   "source": [
    "# Create a SparkSession\n",
    "spark = SparkSession.builder.appName(\"HeartFailurePredictor\").master(\"local\").getOrCreate()"
   ]
  },
  {
   "cell_type": "code",
   "execution_count": 212,
   "id": "5e25cedd",
   "metadata": {},
   "outputs": [],
   "source": [
    "# Load the dataset\n",
    "data = spark.read.csv(\"C:/Users/eobot/OneDrive - Coventry University/Desktop/7153/Assessment/Coursework/heart.csv\", header=True, inferSchema=True)"
   ]
  },
  {
   "cell_type": "code",
   "execution_count": 213,
   "id": "e8b2ac90",
   "metadata": {
    "scrolled": true
   },
   "outputs": [
    {
     "name": "stdout",
     "output_type": "stream",
     "text": [
      "+---+---+-------------+---------+-----------+---------+----------+-----+--------------+-------+--------+------------+\n",
      "|Age|Sex|ChestPainType|RestingBP|Cholesterol|FastingBS|RestingECG|MaxHR|ExerciseAngina|Oldpeak|ST_Slope|HeartDisease|\n",
      "+---+---+-------------+---------+-----------+---------+----------+-----+--------------+-------+--------+------------+\n",
      "| 40|  M|          ATA|      140|        289|        0|    Normal|  172|             N|    0.0|      Up|           0|\n",
      "| 49|  F|          NAP|      160|        180|        0|    Normal|  156|             N|    1.0|    Flat|           1|\n",
      "| 37|  M|          ATA|      130|        283|        0|        ST|   98|             N|    0.0|      Up|           0|\n",
      "| 48|  F|          ASY|      138|        214|        0|    Normal|  108|             Y|    1.5|    Flat|           1|\n",
      "| 54|  M|          NAP|      150|        195|        0|    Normal|  122|             N|    0.0|      Up|           0|\n",
      "| 39|  M|          NAP|      120|        339|        0|    Normal|  170|             N|    0.0|      Up|           0|\n",
      "| 45|  F|          ATA|      130|        237|        0|    Normal|  170|             N|    0.0|      Up|           0|\n",
      "| 54|  M|          ATA|      110|        208|        0|    Normal|  142|             N|    0.0|      Up|           0|\n",
      "| 37|  M|          ASY|      140|        207|        0|    Normal|  130|             Y|    1.5|    Flat|           1|\n",
      "| 48|  F|          ATA|      120|        284|        0|    Normal|  120|             N|    0.0|      Up|           0|\n",
      "+---+---+-------------+---------+-----------+---------+----------+-----+--------------+-------+--------+------------+\n",
      "only showing top 10 rows\n",
      "\n"
     ]
    }
   ],
   "source": [
    "data.show(10)"
   ]
  },
  {
   "cell_type": "code",
   "execution_count": 214,
   "id": "5ead342c",
   "metadata": {},
   "outputs": [
    {
     "name": "stdout",
     "output_type": "stream",
     "text": [
      "(918, 12)\n",
      "+-------+------------------+----+-------------+------------------+------------------+-------------------+----------+------------------+--------------+------------------+--------+-------------------+\n",
      "|summary|               Age| Sex|ChestPainType|         RestingBP|       Cholesterol|          FastingBS|RestingECG|             MaxHR|ExerciseAngina|           Oldpeak|ST_Slope|       HeartDisease|\n",
      "+-------+------------------+----+-------------+------------------+------------------+-------------------+----------+------------------+--------------+------------------+--------+-------------------+\n",
      "|  count|               918| 918|          918|               918|               918|                918|       918|               918|           918|               918|     918|                918|\n",
      "|   mean|53.510893246187365|NULL|         NULL|132.39651416122004| 198.7995642701525|0.23311546840958605|      NULL|136.80936819172112|          NULL|0.8873638344226581|    NULL| 0.5533769063180828|\n",
      "| stddev|  9.43261650673202|NULL|         NULL|18.514154119907808|109.38414455220345|0.42304562473930296|      NULL| 25.46033413825029|          NULL|1.0665701510493264|    NULL|0.49741373828459706|\n",
      "|    min|                28|   F|          ASY|                 0|                 0|                  0|       LVH|                60|             N|              -2.6|    Down|                  0|\n",
      "|    max|                77|   M|           TA|               200|               603|                  1|        ST|               202|             Y|               6.2|      Up|                  1|\n",
      "+-------+------------------+----+-------------+------------------+------------------+-------------------+----------+------------------+--------------+------------------+--------+-------------------+\n",
      "\n",
      "+---+---+-------------+---------+-----------+---------+----------+-----+--------------+-------+--------+------------+\n",
      "|Age|Sex|ChestPainType|RestingBP|Cholesterol|FastingBS|RestingECG|MaxHR|ExerciseAngina|Oldpeak|ST_Slope|HeartDisease|\n",
      "+---+---+-------------+---------+-----------+---------+----------+-----+--------------+-------+--------+------------+\n",
      "|  0|  0|            0|        0|          0|        0|         0|    0|             0|      0|       0|           0|\n",
      "+---+---+-------------+---------+-----------+---------+----------+-----+--------------+-------+--------+------------+\n",
      "\n"
     ]
    }
   ],
   "source": [
    "import pyspark.sql.functions as fc\n",
    "print((data.count(), len(data.columns)))\n",
    "data.describe().show()\n",
    "\n",
    "\n",
    "# check for null values in each column\n",
    "data_null = data.agg(*[fc.count(fc.when(fc.isnull(c), c)).alias(c) for c in data.columns])\n",
    "data_null.show()   # no null values"
   ]
  },
  {
   "cell_type": "code",
   "execution_count": 215,
   "id": "103a0cc2",
   "metadata": {},
   "outputs": [
    {
     "name": "stdout",
     "output_type": "stream",
     "text": [
      "+-------+------------------+----+-------------+------------------+------------------+-------------------+----------+------------------+--------------+------------------+--------+-------------------+\n",
      "|summary|               Age| Sex|ChestPainType|         RestingBP|       Cholesterol|          FastingBS|RestingECG|             MaxHR|ExerciseAngina|           Oldpeak|ST_Slope|       HeartDisease|\n",
      "+-------+------------------+----+-------------+------------------+------------------+-------------------+----------+------------------+--------------+------------------+--------+-------------------+\n",
      "|  count|               918| 918|          918|               918|               918|                918|       918|               918|           918|               918|     918|                918|\n",
      "|   mean|53.510893246187365|NULL|         NULL|132.39651416122004| 198.7995642701525|0.23311546840958605|      NULL|136.80936819172112|          NULL|0.8873638344226581|    NULL| 0.5533769063180828|\n",
      "| stddev|  9.43261650673202|NULL|         NULL|18.514154119907808|109.38414455220345|0.42304562473930296|      NULL| 25.46033413825029|          NULL|1.0665701510493264|    NULL|0.49741373828459706|\n",
      "|    min|                28|   F|          ASY|                 0|                 0|                  0|       LVH|                60|             N|              -2.6|    Down|                  0|\n",
      "|    max|                77|   M|           TA|               200|               603|                  1|        ST|               202|             Y|               6.2|      Up|                  1|\n",
      "+-------+------------------+----+-------------+------------------+------------------+-------------------+----------+------------------+--------------+------------------+--------+-------------------+\n",
      "\n"
     ]
    },
    {
     "data": {
      "text/plain": [
       "[('Age', 'int'),\n",
       " ('Sex', 'string'),\n",
       " ('ChestPainType', 'string'),\n",
       " ('RestingBP', 'int'),\n",
       " ('Cholesterol', 'int'),\n",
       " ('FastingBS', 'int'),\n",
       " ('RestingECG', 'string'),\n",
       " ('MaxHR', 'int'),\n",
       " ('ExerciseAngina', 'string'),\n",
       " ('Oldpeak', 'double'),\n",
       " ('ST_Slope', 'string'),\n",
       " ('HeartDisease', 'int')]"
      ]
     },
     "execution_count": 215,
     "metadata": {},
     "output_type": "execute_result"
    }
   ],
   "source": [
    "data.summary\n",
    "data.describe().show()\n",
    "data.dtypes"
   ]
  },
  {
   "cell_type": "code",
   "execution_count": 216,
   "id": "53e4b27c",
   "metadata": {},
   "outputs": [],
   "source": [
    "from pyspark.ml import Pipeline\n",
    "from pyspark.ml.feature import StringIndexer\n",
    "\n",
    "#label encoding of categorical columns\n",
    "categorical_cols = [\"Sex\",\"ChestPainType\",\"RestingECG\",\"ExerciseAngina\",\"ST_Slope\"]\n",
    "label_encoders = [StringIndexer(inputCol=col, outputCol=col + \"_encoded\").fit(data) for col in categorical_cols]\n",
    "pipeline = Pipeline(stages=label_encoders)\n",
    "data = pipeline.fit(data).transform(data)"
   ]
  },
  {
   "cell_type": "code",
   "execution_count": 217,
   "id": "fee9111c",
   "metadata": {},
   "outputs": [
    {
     "data": {
      "text/plain": [
       "[('Age', 'int'),\n",
       " ('Sex', 'string'),\n",
       " ('ChestPainType', 'string'),\n",
       " ('RestingBP', 'int'),\n",
       " ('Cholesterol', 'int'),\n",
       " ('FastingBS', 'int'),\n",
       " ('RestingECG', 'string'),\n",
       " ('MaxHR', 'int'),\n",
       " ('ExerciseAngina', 'string'),\n",
       " ('Oldpeak', 'double'),\n",
       " ('ST_Slope', 'string'),\n",
       " ('HeartDisease', 'int'),\n",
       " ('Sex_encoded', 'double'),\n",
       " ('ChestPainType_encoded', 'double'),\n",
       " ('RestingECG_encoded', 'double'),\n",
       " ('ExerciseAngina_encoded', 'double'),\n",
       " ('ST_Slope_encoded', 'double')]"
      ]
     },
     "execution_count": 217,
     "metadata": {},
     "output_type": "execute_result"
    }
   ],
   "source": [
    "data.dtypes"
   ]
  },
  {
   "cell_type": "code",
   "execution_count": 218,
   "id": "d1d4b3b2",
   "metadata": {},
   "outputs": [
    {
     "data": {
      "text/plain": [
       "[('Age', 'int'),\n",
       " ('RestingBP', 'int'),\n",
       " ('Cholesterol', 'int'),\n",
       " ('FastingBS', 'int'),\n",
       " ('MaxHR', 'int'),\n",
       " ('Oldpeak', 'double'),\n",
       " ('HeartDisease', 'int'),\n",
       " ('Sex_encoded', 'double'),\n",
       " ('ChestPainType_encoded', 'double'),\n",
       " ('RestingECG_encoded', 'double'),\n",
       " ('ExerciseAngina_encoded', 'double'),\n",
       " ('ST_Slope_encoded', 'double')]"
      ]
     },
     "execution_count": 218,
     "metadata": {},
     "output_type": "execute_result"
    }
   ],
   "source": [
    "#drop duplicate columns\n",
    "new_data = data.drop(\"Sex\",\"ChestPainType\",\"RestingECG\",\"ExerciseAngina\",\"ST_Slope\")\n",
    "new_data.dtypes"
   ]
  },
  {
   "cell_type": "code",
   "execution_count": 219,
   "id": "a63520bc",
   "metadata": {},
   "outputs": [
    {
     "name": "stdout",
     "output_type": "stream",
     "text": [
      "(918, 11)\n"
     ]
    }
   ],
   "source": [
    "FeaturesData = new_data.drop(\"HeartDisease\")\n",
    "print((FeaturesData.count(), len(FeaturesData.columns)))"
   ]
  },
  {
   "cell_type": "code",
   "execution_count": 220,
   "id": "83e833c8",
   "metadata": {},
   "outputs": [
    {
     "name": "stdout",
     "output_type": "stream",
     "text": [
      "(918, 1)\n",
      "+------------+-----+\n",
      "|HeartDisease|count|\n",
      "+------------+-----+\n",
      "|           0|  410|\n",
      "|           1|  508|\n",
      "+------------+-----+\n",
      "\n"
     ]
    }
   ],
   "source": [
    "Target = new_data.drop(\"Age\", \"RestingBP\",\"Cholesterol\",\"FastingBS\",\"MaxHR\",\"Oldpeak\",\"ExerciseAngina_encoded\",\"Sex_encoded\",\"ChestPainType_encoded\",\"RestingECG_encoded\",\"ST_Slope_encoded\")\n",
    "print((Target.count(), len(Target.columns)))\n",
    "Target.groupBy('HeartDisease').count().orderBy('count').show()"
   ]
  },
  {
   "cell_type": "code",
   "execution_count": 221,
   "id": "f986bb19",
   "metadata": {},
   "outputs": [
    {
     "name": "stdout",
     "output_type": "stream",
     "text": [
      "['Age', 'RestingBP', 'Cholesterol', 'FastingBS', 'MaxHR', 'Oldpeak', 'Sex_encoded', 'ChestPainType_encoded', 'RestingECG_encoded', 'ExerciseAngina_encoded', 'ST_Slope_encoded']\n"
     ]
    }
   ],
   "source": [
    "features_columns = FeaturesData.columns\n",
    "print(features_columns)\n",
    "VAssembler = VectorAssembler(inputCols=features_columns, outputCol=\"VAfeatures\")\n",
    "new_data = VAssembler.transform(new_data)\n",
    "new_data = new_data.select(\"VAfeatures\", \"HeartDisease\")\n"
   ]
  },
  {
   "cell_type": "code",
   "execution_count": 222,
   "id": "f974196b",
   "metadata": {},
   "outputs": [
    {
     "name": "stdout",
     "output_type": "stream",
     "text": [
      "+--------------------+------------+\n",
      "|          VAfeatures|HeartDisease|\n",
      "+--------------------+------------+\n",
      "|(11,[0,1,2,4,7,10...|           0|\n",
      "|[49.0,160.0,180.0...|           1|\n",
      "|[37.0,130.0,283.0...|           0|\n",
      "|[48.0,138.0,214.0...|           1|\n",
      "|(11,[0,1,2,4,7,10...|           0|\n",
      "+--------------------+------------+\n",
      "only showing top 5 rows\n",
      "\n"
     ]
    }
   ],
   "source": [
    "new_data.show(5)"
   ]
  },
  {
   "cell_type": "code",
   "execution_count": 223,
   "id": "3bb4d4c9",
   "metadata": {},
   "outputs": [],
   "source": [
    "#standardizing the data\n",
    "scaled_data = StandardScaler(inputCol=\"VAfeatures\", outputCol=\"features\")\n",
    "new_data = scaled_data.fit(new_data).transform(new_data)"
   ]
  },
  {
   "cell_type": "code",
   "execution_count": 224,
   "id": "a542a410",
   "metadata": {},
   "outputs": [
    {
     "name": "stdout",
     "output_type": "stream",
     "text": [
      "+--------------------+------------+--------------------+\n",
      "|          VAfeatures|HeartDisease|            features|\n",
      "+--------------------+------------+--------------------+\n",
      "|(11,[0,1,2,4,7,10...|           0|(11,[0,1,2,4,7,10...|\n",
      "|[49.0,160.0,180.0...|           1|[5.19474103129591...|\n",
      "|[37.0,130.0,283.0...|           0|[3.92255955424385...|\n",
      "|[48.0,138.0,214.0...|           1|[5.08872590820824...|\n",
      "|(11,[0,1,2,4,7,10...|           0|(11,[0,1,2,4,7,10...|\n",
      "+--------------------+------------+--------------------+\n",
      "only showing top 5 rows\n",
      "\n"
     ]
    }
   ],
   "source": [
    "new_data.show(5)"
   ]
  },
  {
   "cell_type": "code",
   "execution_count": 225,
   "id": "188456be",
   "metadata": {},
   "outputs": [
    {
     "name": "stdout",
     "output_type": "stream",
     "text": [
      "+--------------------+-----+\n",
      "|            features|label|\n",
      "+--------------------+-----+\n",
      "|(11,[0,1,2,4,7,10...|    0|\n",
      "|[5.19474103129591...|    1|\n",
      "|[3.92255955424385...|    0|\n",
      "|[5.08872590820824...|    1|\n",
      "|(11,[0,1,2,4,7,10...|    0|\n",
      "+--------------------+-----+\n",
      "only showing top 5 rows\n",
      "\n"
     ]
    }
   ],
   "source": [
    "new_data = new_data.select(\"features\", \"HeartDisease\")\n",
    "new_data = new_data.withColumnRenamed(\"HeartDisease\",\"label\")\n",
    "new_data.show(5)"
   ]
  },
  {
   "cell_type": "code",
   "execution_count": 226,
   "id": "b4c977ff",
   "metadata": {},
   "outputs": [],
   "source": [
    "#splitting into test and train data\n",
    "train_data, test_data = new_data.randomSplit([0.8, 0.2], seed=42)"
   ]
  },
  {
   "cell_type": "code",
   "execution_count": 228,
   "id": "65a1c110",
   "metadata": {},
   "outputs": [
    {
     "name": "stdout",
     "output_type": "stream",
     "text": [
      "AUC-ROC:  0.9154929577464785\n",
      "Accuracy:  0.8523489932885906\n",
      "Precision:  0.8607363591551966\n",
      "Sensitivity:  0.8523489932885906\n",
      "F1-Score:  0.8508075816800649\n"
     ]
    }
   ],
   "source": [
    "# Logistic Regression Model\n",
    "LR=LogisticRegression().fit(train_data)\n",
    "\n",
    "#Get Predictions for Logistic Regression Model\n",
    "prediction = LR.transform(test_data)\n",
    "multi_evaluator = MulticlassClassificationEvaluator(labelCol=\"label\", predictionCol=\"prediction\")\n",
    "evaluator = BinaryClassificationEvaluator(rawPredictionCol=\"rawPrediction\", labelCol=\"label\")\n",
    "\n",
    "#Metrics for evaluation\n",
    "auc = evaluator.evaluate(prediction)\n",
    "accuracy = multi_evaluator.evaluate(prediction, {multi_evaluator.metricName: \"accuracy\"})\n",
    "precision = multi_evaluator.evaluate(prediction, {multi_evaluator.metricName: \"weightedPrecision\"})\n",
    "sensitivity = multi_evaluator.evaluate(prediction, {multi_evaluator.metricName: \"weightedRecall\"})\n",
    "f1score = multi_evaluator.evaluate(prediction, {multi_evaluator.metricName: \"f1\"})\n",
    "print(\"AUC-ROC: \", auc)\n",
    "print(\"Accuracy: \", accuracy)\n",
    "print(\"Precision: \", precision)\n",
    "print(\"Sensitivity: \", sensitivity)\n",
    "print(\"F1-Score: \", f1score)"
   ]
  },
  {
   "cell_type": "code",
   "execution_count": 229,
   "id": "782bcd67",
   "metadata": {},
   "outputs": [
    {
     "name": "stdout",
     "output_type": "stream",
     "text": [
      "+--------------------+-----+--------------------+--------------------+----------+\n",
      "|            features|label|       rawPrediction|         probability|prediction|\n",
      "+--------------------+-----+--------------------+--------------------+----------+\n",
      "|(11,[0,1,2,3,4,5]...|    1|[-1.9765736975550...|[0.12168455786611...|       1.0|\n",
      "|(11,[0,1,2,3,4,8]...|    1|[-2.5642192262587...|[0.07147701365420...|       1.0|\n",
      "|(11,[0,1,2,3,4,8]...|    1|[-2.1431794373647...|[0.10497030110055...|       1.0|\n",
      "|(11,[0,1,2,4],[4....|    1|[-0.1044147375503...|[0.47392000593331...|       1.0|\n",
      "|(11,[0,1,2,4],[5....|    1|[-0.4093443818699...|[0.39906933649413...|       1.0|\n",
      "|(11,[0,1,2,4],[6....|    1|[-1.0969145465464...|[0.25031846173779...|       1.0|\n",
      "|(11,[0,1,2,4,5],[...|    0|[-1.0665928358751...|[0.25605157238773...|       1.0|\n",
      "|(11,[0,1,2,4,5],[...|    0|[-1.0982620016845...|[0.25006568456086...|       1.0|\n",
      "|(11,[0,1,2,4,5,7]...|    1|[-0.6055305346470...|[0.35307941627607...|       1.0|\n",
      "|(11,[0,1,2,4,5,7]...|    0|[0.13595240496995...|[0.53393584748854...|       0.0|\n",
      "|(11,[0,1,2,4,5,7]...|    1|[0.98825821429778...|[0.72874374981478...|       0.0|\n",
      "|(11,[0,1,2,4,5,7]...|    1|[-1.3776460760197...|[0.20138731634142...|       1.0|\n",
      "|(11,[0,1,2,4,5,7]...|    1|[-1.4567083811162...|[0.18897128606936...|       1.0|\n",
      "|(11,[0,1,2,4,5,8]...|    1|[-2.2404579049582...|[0.09617573052197...|       1.0|\n",
      "|(11,[0,1,2,4,5,8]...|    1|[-2.8137619679039...|[0.05658501976982...|       1.0|\n",
      "|(11,[0,1,2,4,5,9]...|    1|[-2.3219782389944...|[0.08931901635614...|       1.0|\n",
      "|(11,[0,1,2,4,5,9]...|    1|[-3.1768669410856...|[0.04004560143929...|       1.0|\n",
      "|(11,[0,1,2,4,5,9]...|    1|[-3.9692340506989...|[0.01853775558904...|       1.0|\n",
      "|(11,[0,1,2,4,5,9]...|    1|[-4.3828401311491...|[0.01233576376966...|       1.0|\n",
      "|(11,[0,1,2,4,5,9]...|    0|[-3.0112174765692...|[0.04692167005062...|       1.0|\n",
      "+--------------------+-----+--------------------+--------------------+----------+\n",
      "only showing top 20 rows\n",
      "\n"
     ]
    }
   ],
   "source": [
    "#Display the Logistic Regression predictions\n",
    "prediction.show()"
   ]
  },
  {
   "cell_type": "code",
   "execution_count": 232,
   "id": "a93fd632",
   "metadata": {},
   "outputs": [
    {
     "name": "stdout",
     "output_type": "stream",
     "text": [
      "AUC-ROC:  0.914409534127844\n",
      "Accuracy:  0.8859060402684564\n",
      "Precision:  0.888868189893407\n",
      "Sensitivity:  0.8859060402684564\n",
      "F1-Score:  0.8853979190208447\n"
     ]
    }
   ],
   "source": [
    "# Gradient Boost Model\n",
    "gradient_boost_class = GBTClassifier(labelCol=\"label\", featuresCol=\"features\")\n",
    "model = gradient_boost_class.fit(train_data)\n",
    "\n",
    "#Get predictions for Gradient Boost model\n",
    "predictionsGBT = model.transform(test_data)\n",
    "\n",
    "#Metrics for evaluation\n",
    "auc = evaluator.evaluate(predictionsGBT)\n",
    "accuracy = multi_evaluator.evaluate(predictionsGBT, {multi_evaluator.metricName: \"accuracy\"})\n",
    "precision = multi_evaluator.evaluate(predictionsGBT, {multi_evaluator.metricName: \"weightedPrecision\"})\n",
    "sensitivity = multi_evaluator.evaluate(predictionsGBT, {multi_evaluator.metricName: \"weightedRecall\"})\n",
    "f1score = multi_evaluator.evaluate(predictionsGBT, {multi_evaluator.metricName: \"f1\"})\n",
    "print(\"AUC-ROC: \", auc)\n",
    "print(\"Accuracy: \", accuracy)\n",
    "print(\"Precision: \", precision)\n",
    "print(\"Sensitivity: \", sensitivity)\n",
    "print(\"F1-Score: \", f1score)"
   ]
  },
  {
   "cell_type": "code",
   "execution_count": 233,
   "id": "af35537e",
   "metadata": {},
   "outputs": [
    {
     "name": "stdout",
     "output_type": "stream",
     "text": [
      "+--------------------+-----+--------------------+--------------------+----------+\n",
      "|            features|label|       rawPrediction|         probability|prediction|\n",
      "+--------------------+-----+--------------------+--------------------+----------+\n",
      "|(11,[0,1,2,3,4,5]...|    1|[-0.1975587198008...|[0.40248599068022...|       1.0|\n",
      "|(11,[0,1,2,3,4,8]...|    1|[-1.4665496852419...|[0.05054138821990...|       1.0|\n",
      "|(11,[0,1,2,3,4,8]...|    1|[-1.5212945755071...|[0.04553850148072...|       1.0|\n",
      "|(11,[0,1,2,4],[4....|    1|[-1.4399676927821...|[0.05315438828405...|       1.0|\n",
      "|(11,[0,1,2,4],[5....|    1|[-0.9464326388474...|[0.13091811735594...|       1.0|\n",
      "|(11,[0,1,2,4],[6....|    1|[-1.1492157641999...|[0.09125294448692...|       1.0|\n",
      "|(11,[0,1,2,4,5],[...|    0|[-1.2485247306508...|[0.07606528277765...|       1.0|\n",
      "|(11,[0,1,2,4,5],[...|    0|[-0.7350970369494...|[0.18691311748380...|       1.0|\n",
      "|(11,[0,1,2,4,5,7]...|    1|[-0.2311986871358...|[0.38641725436498...|       1.0|\n",
      "|(11,[0,1,2,4,5,7]...|    0|[-0.1470680155459...|[0.42699160105140...|       1.0|\n",
      "|(11,[0,1,2,4,5,7]...|    1|[-0.8742326846241...|[0.14824086438395...|       1.0|\n",
      "|(11,[0,1,2,4,5,7]...|    1|[-0.5462925574565...|[0.25113179703720...|       1.0|\n",
      "|(11,[0,1,2,4,5,7]...|    1|[-0.3743098429737...|[0.32112213870278...|       1.0|\n",
      "|(11,[0,1,2,4,5,8]...|    1|[-0.8481604118320...|[0.15494639777028...|       1.0|\n",
      "|(11,[0,1,2,4,5,8]...|    1|[-1.1983482300655...|[0.08342495505553...|       1.0|\n",
      "|(11,[0,1,2,4,5,9]...|    1|[-1.4496655543071...|[0.05218663867376...|       1.0|\n",
      "|(11,[0,1,2,4,5,9]...|    1|[-1.1692044855549...|[0.08799150964533...|       1.0|\n",
      "|(11,[0,1,2,4,5,9]...|    1|[-1.2279373412963...|[0.07901000502864...|       1.0|\n",
      "|(11,[0,1,2,4,5,9]...|    1|[-1.2842427300546...|[0.07119438914889...|       1.0|\n",
      "|(11,[0,1,2,4,5,9]...|    0|[-1.5002563531072...|[0.04740271619716...|       1.0|\n",
      "+--------------------+-----+--------------------+--------------------+----------+\n",
      "only showing top 20 rows\n",
      "\n"
     ]
    }
   ],
   "source": [
    "#Display the Gradient Boost predictions\n",
    "predictionsGBT.show()"
   ]
  },
  {
   "cell_type": "code",
   "execution_count": 234,
   "id": "12674815",
   "metadata": {},
   "outputs": [
    {
     "name": "stdout",
     "output_type": "stream",
     "text": [
      "AUC-ROC:  0.9142289635247379\n",
      "Accuracy:  0.8590604026845637\n",
      "Precision:  0.863629237557017\n",
      "Sensitivity:  0.8590604026845637\n",
      "F1-Score:  0.8581355768921999\n"
     ]
    }
   ],
   "source": [
    "#Linear Support Vector Classifier Model\n",
    "lsvc = LinearSVC(labelCol=\"label\", maxIter=50)\n",
    "model = lsvc.fit(train_data)\n",
    "\n",
    "#Get predictions for Support Vector Machine Classifier\n",
    "predictionsLSVC = model.transform(test_data)\n",
    "\n",
    "#Metrics for evaluation\n",
    "auc = evaluator.evaluate(predictionsLSVC)\n",
    "accuracy = multi_evaluator.evaluate(predictionsLSVC, {multi_evaluator.metricName: \"accuracy\"})\n",
    "precision = multi_evaluator.evaluate(predictionsLSVC, {multi_evaluator.metricName: \"weightedPrecision\"})\n",
    "sensitivity = multi_evaluator.evaluate(predictionsLSVC, {multi_evaluator.metricName: \"weightedRecall\"})\n",
    "f1score = multi_evaluator.evaluate(predictionsLSVC, {multi_evaluator.metricName: \"f1\"})\n",
    "print(\"AUC-ROC: \", auc)\n",
    "print(\"Accuracy: \", accuracy)\n",
    "print(\"Precision: \", precision)\n",
    "print(\"Sensitivity: \", sensitivity)\n",
    "print(\"F1-Score: \", f1score)"
   ]
  },
  {
   "cell_type": "code",
   "execution_count": 235,
   "id": "7a76c140",
   "metadata": {},
   "outputs": [
    {
     "name": "stdout",
     "output_type": "stream",
     "text": [
      "+--------------------+-----+--------------------+----------+\n",
      "|            features|label|       rawPrediction|prediction|\n",
      "+--------------------+-----+--------------------+----------+\n",
      "|(11,[0,1,2,3,4,5]...|    1|[-1.1797294937039...|       1.0|\n",
      "|(11,[0,1,2,3,4,8]...|    1|[-1.5779064502089...|       1.0|\n",
      "|(11,[0,1,2,3,4,8]...|    1|[-1.2373276731106...|       1.0|\n",
      "|(11,[0,1,2,4],[4....|    1|[0.02798379541442...|       0.0|\n",
      "|(11,[0,1,2,4],[5....|    1|[-0.1982245787043...|       1.0|\n",
      "|(11,[0,1,2,4],[6....|    1|[-0.6840884421823...|       1.0|\n",
      "|(11,[0,1,2,4,5],[...|    0|[-0.6271911434717...|       1.0|\n",
      "|(11,[0,1,2,4,5],[...|    0|[-0.6493538274875...|       1.0|\n",
      "|(11,[0,1,2,4,5,7]...|    1|[-0.3886628594374...|       1.0|\n",
      "|(11,[0,1,2,4,5,7]...|    0|[0.16449453891078...|       0.0|\n",
      "|(11,[0,1,2,4,5,7]...|    1|[0.77735077284634...|       0.0|\n",
      "|(11,[0,1,2,4,5,7]...|    1|[-0.9344799232149...|       1.0|\n",
      "|(11,[0,1,2,4,5,7]...|    1|[-0.9711073955980...|       1.0|\n",
      "|(11,[0,1,2,4,5,8]...|    1|[-1.5251782345073...|       1.0|\n",
      "|(11,[0,1,2,4,5,8]...|    1|[-1.9144819897956...|       1.0|\n",
      "|(11,[0,1,2,4,5,9]...|    1|[-1.7714630589098...|       1.0|\n",
      "|(11,[0,1,2,4,5,9]...|    1|[-2.3582785130315...|       1.0|\n",
      "|(11,[0,1,2,4,5,9]...|    1|[-2.8984134880863...|       1.0|\n",
      "|(11,[0,1,2,4,5,9]...|    1|[-3.0622880368019...|       1.0|\n",
      "|(11,[0,1,2,4,5,9]...|    0|[-2.1836672528570...|       1.0|\n",
      "+--------------------+-----+--------------------+----------+\n",
      "only showing top 20 rows\n",
      "\n"
     ]
    }
   ],
   "source": [
    "#Display the Linear Support Vector Classifier predictions\n",
    "predictionsLSVC.show()"
   ]
  },
  {
   "cell_type": "code",
   "execution_count": 236,
   "id": "6008c042",
   "metadata": {},
   "outputs": [
    {
     "name": "stdout",
     "output_type": "stream",
     "text": [
      "AUC-ROC:  0.9232574936800284\n",
      "Accuracy:  0.8590604026845637\n",
      "Precision:  0.8602488048594623\n",
      "Sensitivity:  0.8590604026845637\n",
      "F1-Score:  0.8586770152865075\n"
     ]
    }
   ],
   "source": [
    "#Random Forest Model\n",
    "random_forest = RandomForestClassifier(labelCol=\"label\", featuresCol=\"features\")\n",
    "model = random_forest.fit(train_data)\n",
    "\n",
    "#Get predictions for Random Forest model\n",
    "predictionsRDF = model.transform(test_data)\n",
    "\n",
    "#Metrics for evaluation\n",
    "auc = evaluator.evaluate(predictionsRDF)\n",
    "accuracy = multi_evaluator.evaluate(predictionsRDF, {multi_evaluator.metricName: \"accuracy\"})\n",
    "precision = multi_evaluator.evaluate(predictionsRDF, {multi_evaluator.metricName: \"weightedPrecision\"})\n",
    "sensitivity = multi_evaluator.evaluate(predictionsRDF, {multi_evaluator.metricName: \"weightedRecall\"})\n",
    "f1score = multi_evaluator.evaluate(predictionsRDF, {multi_evaluator.metricName: \"f1\"})\n",
    "print(\"AUC-ROC: \", auc)\n",
    "print(\"Accuracy: \", accuracy)\n",
    "print(\"Precision: \", precision)\n",
    "print(\"Sensitivity: \", sensitivity)\n",
    "print(\"F1-Score: \", f1score)"
   ]
  },
  {
   "cell_type": "code",
   "execution_count": 237,
   "id": "d6c66b2f",
   "metadata": {},
   "outputs": [
    {
     "name": "stdout",
     "output_type": "stream",
     "text": [
      "+--------------------+-----+--------------------+--------------------+----------+\n",
      "|            features|label|       rawPrediction|         probability|prediction|\n",
      "+--------------------+-----+--------------------+--------------------+----------+\n",
      "|(11,[0,1,2,3,4,5]...|    1|[6.40696759591695...|[0.32034837979584...|       1.0|\n",
      "|(11,[0,1,2,3,4,8]...|    1|[2.35887518843032...|[0.11794375942151...|       1.0|\n",
      "|(11,[0,1,2,3,4,8]...|    1|[2.98116607583748...|[0.14905830379187...|       1.0|\n",
      "|(11,[0,1,2,4],[4....|    1|[3.23511970718328...|[0.16175598535916...|       1.0|\n",
      "|(11,[0,1,2,4],[5....|    1|[5.17610857800937...|[0.25880542890046...|       1.0|\n",
      "|(11,[0,1,2,4],[6....|    1|[2.00173233128746...|[0.10008661656437...|       1.0|\n",
      "|(11,[0,1,2,4,5],[...|    0|[2.35079409291290...|[0.11753970464564...|       1.0|\n",
      "|(11,[0,1,2,4,5],[...|    0|[4.65547503527542...|[0.23277375176377...|       1.0|\n",
      "|(11,[0,1,2,4,5,7]...|    1|[11.3093241329396...|[0.56546620664698...|       0.0|\n",
      "|(11,[0,1,2,4,5,7]...|    0|[8.80638593353962...|[0.44031929667698...|       1.0|\n",
      "|(11,[0,1,2,4,5,7]...|    1|[8.62148694364063...|[0.43107434718203...|       1.0|\n",
      "|(11,[0,1,2,4,5,7]...|    1|[6.02527141759364...|[0.30126357087968...|       1.0|\n",
      "|(11,[0,1,2,4,5,7]...|    1|[6.13212142038273...|[0.30660607101913...|       1.0|\n",
      "|(11,[0,1,2,4,5,8]...|    1|[2.86718676771889...|[0.14335933838594...|       1.0|\n",
      "|(11,[0,1,2,4,5,8]...|    1|[1.68495042953402...|[0.08424752147670...|       1.0|\n",
      "|(11,[0,1,2,4,5,9]...|    1|[2.55475437675923...|[0.12773771883796...|       1.0|\n",
      "|(11,[0,1,2,4,5,9]...|    1|[1.27712823844929...|[0.06385641192246...|       1.0|\n",
      "|(11,[0,1,2,4,5,9]...|    1|[1.56445429982950...|[0.07822271499147...|       1.0|\n",
      "|(11,[0,1,2,4,5,9]...|    1|[1.88136182808238...|[0.09406809140411...|       1.0|\n",
      "|(11,[0,1,2,4,5,9]...|    0|[3.95164025509576...|[0.19758201275478...|       1.0|\n",
      "+--------------------+-----+--------------------+--------------------+----------+\n",
      "only showing top 20 rows\n",
      "\n"
     ]
    }
   ],
   "source": [
    "#Display the Random Forest predictions\n",
    "predictionsRDF.show()"
   ]
  },
  {
   "cell_type": "code",
   "execution_count": 238,
   "id": "2bfb1380",
   "metadata": {},
   "outputs": [
    {
     "name": "stdout",
     "output_type": "stream",
     "text": [
      "AUC-ROC:  0.8768508486818345\n",
      "Accuracy:  0.87248322147651\n",
      "Precision:  0.8737757619863225\n",
      "Sensitivity:  0.87248322147651\n",
      "F1-Score:  0.8721363471639829\n"
     ]
    }
   ],
   "source": [
    "#Decision Tree Model\n",
    "dt = DecisionTreeClassifier(labelCol=\"label\", featuresCol=\"features\", maxDepth = 7)\n",
    "model = dt.fit(train_data)\n",
    "\n",
    "#Get predictions for Decision Tree model\n",
    "predictionsDT = model.transform(test_data)\n",
    "\n",
    "#Metrics for evaluation\n",
    "auc = evaluator.evaluate(predictionsDT)\n",
    "accuracy = multi_evaluator.evaluate(predictionsDT, {multi_evaluator.metricName: \"accuracy\"})\n",
    "precision = multi_evaluator.evaluate(predictionsDT, {multi_evaluator.metricName: \"weightedPrecision\"})\n",
    "sensitivity = multi_evaluator.evaluate(predictionsDT, {multi_evaluator.metricName: \"weightedRecall\"})\n",
    "f1score = multi_evaluator.evaluate(predictionsDT, {multi_evaluator.metricName: \"f1\"})\n",
    "print(\"AUC-ROC: \", auc)\n",
    "print(\"Accuracy: \", accuracy)\n",
    "print(\"Precision: \", precision)\n",
    "print(\"Sensitivity: \", sensitivity)\n",
    "print(\"F1-Score: \", f1score)"
   ]
  },
  {
   "cell_type": "code",
   "execution_count": 239,
   "id": "4ef8c649",
   "metadata": {},
   "outputs": [
    {
     "name": "stdout",
     "output_type": "stream",
     "text": [
      "+--------------------+-----+-------------+--------------------+----------+\n",
      "|            features|label|rawPrediction|         probability|prediction|\n",
      "+--------------------+-----+-------------+--------------------+----------+\n",
      "|(11,[0,1,2,3,4,5]...|    1|    [5.0,4.0]|[0.55555555555555...|       0.0|\n",
      "|(11,[0,1,2,3,4,8]...|    1|   [0.0,24.0]|           [0.0,1.0]|       1.0|\n",
      "|(11,[0,1,2,3,4,8]...|    1|   [0.0,24.0]|           [0.0,1.0]|       1.0|\n",
      "|(11,[0,1,2,4],[4....|    1|   [0.0,24.0]|           [0.0,1.0]|       1.0|\n",
      "|(11,[0,1,2,4],[5....|    1|   [0.0,24.0]|           [0.0,1.0]|       1.0|\n",
      "|(11,[0,1,2,4],[6....|    1|   [0.0,24.0]|           [0.0,1.0]|       1.0|\n",
      "|(11,[0,1,2,4,5],[...|    0|  [4.0,117.0]|[0.03305785123966...|       1.0|\n",
      "|(11,[0,1,2,4,5],[...|    0|    [5.0,4.0]|[0.55555555555555...|       0.0|\n",
      "|(11,[0,1,2,4,5,7]...|    1|   [1.0,15.0]|     [0.0625,0.9375]|       1.0|\n",
      "|(11,[0,1,2,4,5,7]...|    0|  [12.0,17.0]|[0.41379310344827...|       1.0|\n",
      "|(11,[0,1,2,4,5,7]...|    1|   [1.0,15.0]|     [0.0625,0.9375]|       1.0|\n",
      "|(11,[0,1,2,4,5,7]...|    1|  [12.0,17.0]|[0.41379310344827...|       1.0|\n",
      "|(11,[0,1,2,4,5,7]...|    1|  [12.0,17.0]|[0.41379310344827...|       1.0|\n",
      "|(11,[0,1,2,4,5,8]...|    1|  [4.0,117.0]|[0.03305785123966...|       1.0|\n",
      "|(11,[0,1,2,4,5,8]...|    1|  [4.0,117.0]|[0.03305785123966...|       1.0|\n",
      "|(11,[0,1,2,4,5,9]...|    1|  [4.0,117.0]|[0.03305785123966...|       1.0|\n",
      "|(11,[0,1,2,4,5,9]...|    1|  [4.0,117.0]|[0.03305785123966...|       1.0|\n",
      "|(11,[0,1,2,4,5,9]...|    1|  [4.0,117.0]|[0.03305785123966...|       1.0|\n",
      "|(11,[0,1,2,4,5,9]...|    1|  [4.0,117.0]|[0.03305785123966...|       1.0|\n",
      "|(11,[0,1,2,4,5,9]...|    0|  [4.0,117.0]|[0.03305785123966...|       1.0|\n",
      "+--------------------+-----+-------------+--------------------+----------+\n",
      "only showing top 20 rows\n",
      "\n"
     ]
    }
   ],
   "source": [
    "#Display the Decision Tree predictions\n",
    "predictionsDT.show()"
   ]
  },
  {
   "cell_type": "code",
   "execution_count": null,
   "id": "a467480b",
   "metadata": {},
   "outputs": [],
   "source": []
  }
 ],
 "metadata": {
  "kernelspec": {
   "display_name": "Python 3 (ipykernel)",
   "language": "python",
   "name": "python3"
  },
  "language_info": {
   "codemirror_mode": {
    "name": "ipython",
    "version": 3
   },
   "file_extension": ".py",
   "mimetype": "text/x-python",
   "name": "python",
   "nbconvert_exporter": "python",
   "pygments_lexer": "ipython3",
   "version": "3.11.5"
  }
 },
 "nbformat": 4,
 "nbformat_minor": 5
}
